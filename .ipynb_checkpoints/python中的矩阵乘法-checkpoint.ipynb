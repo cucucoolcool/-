{
 "cells": [
  {
   "cell_type": "raw",
   "metadata": {
    "slideshow": {
     "slide_type": "slide"
    }
   },
   "source": [
    "计算矩阵乘法的函数有： np.dot(), np.multiply(), *, np.matmul()\n",
    "\n",
    "Assume 计算A，B的乘积，AB的类型有ndarray, list\n",
    "\n",
    "if A和B都是标量:\n",
    " A*B\n",
    " np.multipy(A,B)"
   ]
  },
  {
   "cell_type": "code",
   "execution_count": 21,
   "metadata": {
    "slideshow": {
     "slide_type": "slide"
    }
   },
   "outputs": [
    {
     "name": "stdout",
     "output_type": "stream",
     "text": [
      "2\n",
      "2\n",
      "2\n",
      "2\n",
      "2\n",
      "2\n"
     ]
    }
   ],
   "source": [
    "import numpy as np\n",
    "A = 1\n",
    "B = 2\n",
    "print(A*B)\n",
    "print(np.multiply(A,B))\n",
    "print(np.dot(A,B))\n",
    "\n",
    "A = np.array(1)\n",
    "B = np.array(2)\n",
    "print(A*B)\n",
    "print(np.multiply(A,B))\n",
    "print(np.dot(A,B))"
   ]
  },
  {
   "cell_type": "markdown",
   "metadata": {},
   "source": [
    "if A和B都是向量:\n",
    " A*B\n",
    " np.multiply(A,B)\n",
    " np.dot(A,B)\n",
    " np.matmul(A,B)"
   ]
  },
  {
   "cell_type": "code",
   "execution_count": 19,
   "metadata": {},
   "outputs": [
    {
     "name": "stdout",
     "output_type": "stream",
     "text": [
      "[1 6]\n",
      "7\n",
      "7\n",
      "[1 6]\n",
      "[1 6]\n",
      "7\n",
      "7\n"
     ]
    }
   ],
   "source": [
    "import numpy as np\n",
    "A = [1, 2]\n",
    "B = [1, 3]\n",
    "#print(A*B) #*不能用于list\n",
    "print(np.multiply(A,B))  #对应位置的元素相乘\n",
    "print(np.dot(A,B))  #点积，内积\n",
    "print(np.matmul(A,B)) #内积\n",
    "\n",
    "A = np.array([1, 2])\n",
    "B = np.array([1, 3])\n",
    "print(A*B) #对于ndarrya，* == np.multiply\n",
    "print(np.multiply(A,B))  #对应位置的元素相乘\n",
    "print(np.dot(A,B))  #点积，内积\n",
    "print(np.matmul(A,B)) #内积"
   ]
  },
  {
   "cell_type": "markdown",
   "metadata": {},
   "source": [
    "if A和B都是矩阵\n",
    " A*B\n",
    "  np.multiply(A, B)\n",
    "  np.dot(A,B)\n",
    "  np.matmul(A,B)"
   ]
  },
  {
   "cell_type": "code",
   "execution_count": 20,
   "metadata": {},
   "outputs": [
    {
     "name": "stdout",
     "output_type": "stream",
     "text": [
      "[[1 4 9]\n",
      " [1 4 9]]\n",
      "[14 14]\n",
      "[14 14]\n",
      "[[1 4 9]\n",
      " [1 4 9]]\n",
      "[[1 4 9]\n",
      " [1 4 9]]\n",
      "[14 14]\n",
      "[14 14]\n"
     ]
    }
   ],
   "source": [
    "import numpy\n",
    "A = [[1, 2, 3],[1, 2, 3]]\n",
    "B = [1,2,3]\n",
    "#print(A*B)\n",
    "print(np.multiply(A,B))  #对应位置的元素相乘，当维度不对应的时候，broadcast\n",
    "print(np.dot(A,B))  #矩阵乘法\n",
    "print(np.matmul(A,B))  #矩阵乘法\n",
    "\n",
    "A = np.array([[1,2,3],[1,2,3]])\n",
    "B = np.array([1,2,3])\n",
    "print(A*B)  # 等价于np.multiply\n",
    "print(np.multiply(A,B)) #对应位置的元素相乘，当维度不对应的时候，broadcast\n",
    "print(np.dot(A,B))  #矩阵乘法\n",
    "print(np.matmul(A,B))  #矩阵乘法"
   ]
  },
  {
   "cell_type": "markdown",
   "metadata": {},
   "source": [
    "broadcasting机制：两个相乘的矩阵的形状要么相等，要么其中一个为1，为1的那个在该维度上进行复制"
   ]
  }
 ],
 "metadata": {
  "celltoolbar": "Slideshow",
  "kernelspec": {
   "display_name": "Python 3",
   "language": "python",
   "name": "python3"
  },
  "language_info": {
   "codemirror_mode": {
    "name": "ipython",
    "version": 3
   },
   "file_extension": ".py",
   "mimetype": "text/x-python",
   "name": "python",
   "nbconvert_exporter": "python",
   "pygments_lexer": "ipython3",
   "version": "3.6.5"
  }
 },
 "nbformat": 4,
 "nbformat_minor": 2
}
